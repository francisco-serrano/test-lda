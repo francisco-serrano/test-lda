{
 "cells": [
  {
   "cell_type": "code",
   "execution_count": 1,
   "metadata": {},
   "outputs": [],
   "source": [
    "import pandas as pd\n",
    "\n",
    "data = pd.read_csv('abcnews-date-text.csv', error_bad_lines=False)"
   ]
  },
  {
   "cell_type": "code",
   "execution_count": 2,
   "metadata": {},
   "outputs": [],
   "source": [
    "data_text = data[['headline_text']]\n",
    "data_text['index'] = data_text.index\n",
    "documents = data_text"
   ]
  },
  {
   "cell_type": "code",
   "execution_count": 3,
   "metadata": {},
   "outputs": [
    {
     "data": {
      "text/html": [
       "<div>\n",
       "<style scoped>\n",
       "    .dataframe tbody tr th:only-of-type {\n",
       "        vertical-align: middle;\n",
       "    }\n",
       "\n",
       "    .dataframe tbody tr th {\n",
       "        vertical-align: top;\n",
       "    }\n",
       "\n",
       "    .dataframe thead th {\n",
       "        text-align: right;\n",
       "    }\n",
       "</style>\n",
       "<table border=\"1\" class=\"dataframe\">\n",
       "  <thead>\n",
       "    <tr style=\"text-align: right;\">\n",
       "      <th></th>\n",
       "      <th>headline_text</th>\n",
       "      <th>index</th>\n",
       "    </tr>\n",
       "  </thead>\n",
       "  <tbody>\n",
       "    <tr>\n",
       "      <th>0</th>\n",
       "      <td>aba decides against community broadcasting lic...</td>\n",
       "      <td>0</td>\n",
       "    </tr>\n",
       "    <tr>\n",
       "      <th>1</th>\n",
       "      <td>act fire witnesses must be aware of defamation</td>\n",
       "      <td>1</td>\n",
       "    </tr>\n",
       "    <tr>\n",
       "      <th>2</th>\n",
       "      <td>a g calls for infrastructure protection summit</td>\n",
       "      <td>2</td>\n",
       "    </tr>\n",
       "    <tr>\n",
       "      <th>3</th>\n",
       "      <td>air nz staff in aust strike for pay rise</td>\n",
       "      <td>3</td>\n",
       "    </tr>\n",
       "    <tr>\n",
       "      <th>4</th>\n",
       "      <td>air nz strike to affect australian travellers</td>\n",
       "      <td>4</td>\n",
       "    </tr>\n",
       "  </tbody>\n",
       "</table>\n",
       "</div>"
      ],
      "text/plain": [
       "                                       headline_text  index\n",
       "0  aba decides against community broadcasting lic...      0\n",
       "1     act fire witnesses must be aware of defamation      1\n",
       "2     a g calls for infrastructure protection summit      2\n",
       "3           air nz staff in aust strike for pay rise      3\n",
       "4      air nz strike to affect australian travellers      4"
      ]
     },
     "execution_count": 3,
     "metadata": {},
     "output_type": "execute_result"
    }
   ],
   "source": [
    "len(documents)\n",
    "documents.head()"
   ]
  },
  {
   "cell_type": "code",
   "execution_count": 4,
   "metadata": {},
   "outputs": [
    {
     "name": "stderr",
     "output_type": "stream",
     "text": [
      "C:\\Users\\Francisco\\Anaconda3\\envs\\default-env\\lib\\site-packages\\gensim\\utils.py:1197: UserWarning: detected Windows; aliasing chunkize to chunkize_serial\n",
      "  warnings.warn(\"detected Windows; aliasing chunkize to chunkize_serial\")\n",
      "[nltk_data] Downloading package wordnet to\n",
      "[nltk_data]     C:\\Users\\Francisco\\AppData\\Roaming\\nltk_data...\n",
      "[nltk_data]   Package wordnet is already up-to-date!\n"
     ]
    }
   ],
   "source": [
    "import gensim\n",
    "import nltk\n",
    "import numpy as np\n",
    "\n",
    "from gensim.utils import simple_preprocess\n",
    "from gensim.parsing.preprocessing import STOPWORDS\n",
    "\n",
    "from nltk.stem import WordNetLemmatizer, SnowballStemmer\n",
    "from nltk.stem.porter import *\n",
    "\n",
    "np.random.seed(2018)\n",
    "nltk.download('wordnet')\n",
    "\n",
    "stemmer = SnowballStemmer('english')"
   ]
  },
  {
   "cell_type": "code",
   "execution_count": 5,
   "metadata": {},
   "outputs": [],
   "source": [
    "def lemmatize_stemming(text):\n",
    "    return stemmer.stem(WordNetLemmatizer().lemmatize(text, pos='v'))\n",
    "\n",
    "def preprocess(text):\n",
    "    result = []\n",
    "    \n",
    "    for token in gensim.utils.simple_preprocess(text):\n",
    "        if token not in gensim.parsing.preprocessing.STOPWORDS and len(token) > 3:\n",
    "            result.append(lemmatize_stemming(token))\n",
    "            \n",
    "    return result"
   ]
  },
  {
   "cell_type": "code",
   "execution_count": 6,
   "metadata": {},
   "outputs": [
    {
     "name": "stdout",
     "output_type": "stream",
     "text": [
      "Original Document: ['rain', 'helps', 'dampen', 'bushfires']\n",
      "Tokenized and Lemmatized Document: ['rain', 'help', 'dampen', 'bushfir']\n"
     ]
    }
   ],
   "source": [
    "doc_sample = documents.iloc[4310][0]\n",
    "\n",
    "words = doc_sample.split()\n",
    "\n",
    "print('Original Document: {0}'.format(words))\n",
    "print('Tokenized and Lemmatized Document: {0}'.format(preprocess(doc_sample)))"
   ]
  },
  {
   "cell_type": "code",
   "execution_count": 7,
   "metadata": {},
   "outputs": [
    {
     "data": {
      "text/plain": [
       "0            [decid, communiti, broadcast, licenc]\n",
       "1                               [wit, awar, defam]\n",
       "2           [call, infrastructur, protect, summit]\n",
       "3                      [staff, aust, strike, rise]\n",
       "4             [strike, affect, australian, travel]\n",
       "5               [ambiti, olsson, win, tripl, jump]\n",
       "6           [antic, delight, record, break, barca]\n",
       "7    [aussi, qualifi, stosur, wast, memphi, match]\n",
       "8            [aust, address, secur, council, iraq]\n",
       "9                         [australia, lock, timet]\n",
       "Name: headline_text, dtype: object"
      ]
     },
     "execution_count": 7,
     "metadata": {},
     "output_type": "execute_result"
    }
   ],
   "source": [
    "processed_docs = documents['headline_text'].map(preprocess)\n",
    "\n",
    "processed_docs.head(n=10)"
   ]
  },
  {
   "cell_type": "code",
   "execution_count": 8,
   "metadata": {},
   "outputs": [
    {
     "name": "stdout",
     "output_type": "stream",
     "text": [
      "0 broadcast\n",
      "1 communiti\n",
      "2 decid\n",
      "3 licenc\n",
      "4 awar\n",
      "5 defam\n",
      "6 wit\n",
      "7 call\n",
      "8 infrastructur\n",
      "9 protect\n",
      "10 summit\n"
     ]
    }
   ],
   "source": [
    "dictionary = gensim.corpora.Dictionary(processed_docs)\n",
    "\n",
    "count = 0\n",
    "for k, v in dictionary.iteritems():\n",
    "    print(k, v)\n",
    "    count += 1\n",
    "    if count > 10:\n",
    "        break"
   ]
  },
  {
   "cell_type": "code",
   "execution_count": 9,
   "metadata": {},
   "outputs": [],
   "source": [
    "dictionary.filter_extremes(no_below=15, no_above=0.5, keep_n=100000)"
   ]
  },
  {
   "cell_type": "code",
   "execution_count": 10,
   "metadata": {},
   "outputs": [
    {
     "data": {
      "text/plain": [
       "[(76, 1), (112, 1), (483, 1), (4014, 1)]"
      ]
     },
     "execution_count": 10,
     "metadata": {},
     "output_type": "execute_result"
    }
   ],
   "source": [
    "bow_corpus = [dictionary.doc2bow(doc) for doc in processed_docs]\n",
    "\n",
    "type(bow_corpus)\n",
    "bow_corpus[4310]"
   ]
  },
  {
   "cell_type": "code",
   "execution_count": 11,
   "metadata": {},
   "outputs": [
    {
     "name": "stdout",
     "output_type": "stream",
     "text": [
      "Word (76, 1) (\"bushfir\") appears 1 times\n",
      "Word (112, 1) (\"help\") appears 1 times\n",
      "Word (483, 1) (\"rain\") appears 1 times\n",
      "Word (4014, 1) (\"dampen\") appears 1 times\n"
     ]
    }
   ],
   "source": [
    "bow_doc_4310 = bow_corpus[4310]\n",
    "\n",
    "for i in range(len(bow_doc_4310)):\n",
    "    print('Word {0} (\\\"{1}\\\") appears {2} times'.format(\n",
    "        bow_doc_4310[i],\n",
    "        dictionary[bow_doc_4310[i][0]],\n",
    "        bow_doc_4310[i][1]\n",
    "    ))"
   ]
  },
  {
   "cell_type": "code",
   "execution_count": 13,
   "metadata": {},
   "outputs": [
    {
     "name": "stdout",
     "output_type": "stream",
     "text": [
      "[(0, 0.5892908867507543), (1, 0.38929654337861147), (2, 0.4964985175717023), (3, 0.5046520327464028)]\n",
      "[(0, 0.5892908867507543),\n",
      " (1, 0.38929654337861147),\n",
      " (2, 0.4964985175717023),\n",
      " (3, 0.5046520327464028)]\n"
     ]
    }
   ],
   "source": [
    "from gensim import corpora, models\n",
    "\n",
    "tfidf = models.TfidfModel(bow_corpus)\n",
    "corpus_tfidf = tfidf[bow_corpus]\n",
    "\n",
    "from pprint import pprint\n",
    "\n",
    "for doc in corpus_tfidf:\n",
    "    print(doc)\n",
    "    pprint(doc)\n",
    "    break"
   ]
  },
  {
   "cell_type": "code",
   "execution_count": 14,
   "metadata": {},
   "outputs": [],
   "source": [
    "lda_model = gensim.models.LdaMulticore(bow_corpus, num_topics=10, id2word=dictionary, passes=2, workers=16)"
   ]
  },
  {
   "cell_type": "code",
   "execution_count": 16,
   "metadata": {},
   "outputs": [
    {
     "name": "stdout",
     "output_type": "stream",
     "text": [
      "Topic: 0 \n",
      "Words: 0.019*\"elect\" + 0.013*\"deal\" + 0.013*\"say\" + 0.012*\"labor\" + 0.008*\"death\" + 0.008*\"tasmanian\" + 0.007*\"mine\" + 0.006*\"sign\" + 0.006*\"minist\" + 0.006*\"turnbul\"\n",
      "Topic: 1 \n",
      "Words: 0.021*\"australian\" + 0.020*\"water\" + 0.019*\"plan\" + 0.016*\"coast\" + 0.013*\"chang\" + 0.013*\"group\" + 0.012*\"gold\" + 0.009*\"public\" + 0.009*\"state\" + 0.009*\"forc\"\n",
      "Topic: 2 \n",
      "Words: 0.019*\"market\" + 0.012*\"price\" + 0.012*\"rise\" + 0.010*\"fund\" + 0.010*\"share\" + 0.009*\"boost\" + 0.009*\"council\" + 0.009*\"hous\" + 0.008*\"get\" + 0.008*\"budget\"\n",
      "Topic: 3 \n",
      "Words: 0.068*\"polic\" + 0.035*\"interview\" + 0.021*\"crash\" + 0.015*\"investig\" + 0.014*\"miss\" + 0.012*\"driver\" + 0.012*\"search\" + 0.010*\"probe\" + 0.009*\"arrest\" + 0.008*\"fatal\"\n",
      "Topic: 4 \n",
      "Words: 0.032*\"charg\" + 0.029*\"court\" + 0.019*\"murder\" + 0.015*\"woman\" + 0.014*\"accus\" + 0.014*\"sydney\" + 0.013*\"face\" + 0.013*\"jail\" + 0.010*\"assault\" + 0.010*\"drug\"\n",
      "Topic: 5 \n",
      "Words: 0.014*\"world\" + 0.012*\"final\" + 0.011*\"warn\" + 0.011*\"australia\" + 0.011*\"melbourn\" + 0.010*\"road\" + 0.009*\"protest\" + 0.007*\"bushfir\" + 0.006*\"open\" + 0.006*\"home\"\n",
      "Topic: 6 \n",
      "Words: 0.020*\"kill\" + 0.012*\"fall\" + 0.010*\"south\" + 0.009*\"work\" + 0.009*\"north\" + 0.008*\"flood\" + 0.007*\"farm\" + 0.007*\"asylum\" + 0.007*\"east\" + 0.006*\"fish\"\n",
      "Topic: 7 \n",
      "Words: 0.014*\"farmer\" + 0.012*\"council\" + 0.009*\"guilti\" + 0.009*\"say\" + 0.008*\"power\" + 0.008*\"centr\" + 0.008*\"busi\" + 0.008*\"china\" + 0.007*\"trade\" + 0.007*\"industri\"\n",
      "Topic: 8 \n",
      "Words: 0.014*\"countri\" + 0.013*\"hour\" + 0.012*\"report\" + 0.011*\"trump\" + 0.011*\"leav\" + 0.010*\"hospit\" + 0.009*\"child\" + 0.008*\"shoot\" + 0.008*\"meet\" + 0.008*\"dead\"\n",
      "Topic: 9 \n",
      "Words: 0.019*\"govern\" + 0.017*\"rural\" + 0.012*\"health\" + 0.008*\"news\" + 0.008*\"weather\" + 0.007*\"job\" + 0.007*\"storm\" + 0.006*\"urg\" + 0.006*\"nation\" + 0.006*\"island\"\n"
     ]
    }
   ],
   "source": [
    "for idx, topic in lda_model.print_topics(num_topics=-1): # todos\n",
    "    print('Topic: {0} \\nWords: {1}'.format(idx, topic))"
   ]
  },
  {
   "cell_type": "code",
   "execution_count": 26,
   "metadata": {},
   "outputs": [
    {
     "name": "stdout",
     "output_type": "stream",
     "text": [
      "['rain', 'help', 'dampen', 'bushfir']\n",
      "[(76, 1), (112, 1), (483, 1), (4014, 1)]\n",
      "[(0, 0.020000638), (1, 0.020004569), (2, 0.020002339), (3, 0.020001443), (4, 0.020000843), (5, 0.21786463), (6, 0.6221198), (7, 0.020000726), (8, 0.020001678), (9, 0.020003323)]\n",
      "(0, '0.019*\"elect\" + 0.013*\"deal\" + 0.013*\"say\" + 0.012*\"labor\" + 0.008*\"death\" + 0.008*\"tasmanian\" + 0.007*\"mine\" + 0.006*\"sign\" + 0.006*\"minist\" + 0.006*\"turnbul\"')\n",
      "(1, '0.021*\"australian\" + 0.020*\"water\" + 0.019*\"plan\" + 0.016*\"coast\" + 0.013*\"chang\" + 0.013*\"group\" + 0.012*\"gold\" + 0.009*\"public\" + 0.009*\"state\" + 0.009*\"forc\"')\n",
      "(2, '0.019*\"market\" + 0.012*\"price\" + 0.012*\"rise\" + 0.010*\"fund\" + 0.010*\"share\" + 0.009*\"boost\" + 0.009*\"council\" + 0.009*\"hous\" + 0.008*\"get\" + 0.008*\"budget\"')\n",
      "(3, '0.068*\"polic\" + 0.035*\"interview\" + 0.021*\"crash\" + 0.015*\"investig\" + 0.014*\"miss\" + 0.012*\"driver\" + 0.012*\"search\" + 0.010*\"probe\" + 0.009*\"arrest\" + 0.008*\"fatal\"')\n",
      "(4, '0.032*\"charg\" + 0.029*\"court\" + 0.019*\"murder\" + 0.015*\"woman\" + 0.014*\"accus\" + 0.014*\"sydney\" + 0.013*\"face\" + 0.013*\"jail\" + 0.010*\"assault\" + 0.010*\"drug\"')\n",
      "(5, '0.014*\"world\" + 0.012*\"final\" + 0.011*\"warn\" + 0.011*\"australia\" + 0.011*\"melbourn\" + 0.010*\"road\" + 0.009*\"protest\" + 0.007*\"bushfir\" + 0.006*\"open\" + 0.006*\"home\"')\n",
      "(6, '0.020*\"kill\" + 0.012*\"fall\" + 0.010*\"south\" + 0.009*\"work\" + 0.009*\"north\" + 0.008*\"flood\" + 0.007*\"farm\" + 0.007*\"asylum\" + 0.007*\"east\" + 0.006*\"fish\"')\n",
      "(7, '0.014*\"farmer\" + 0.012*\"council\" + 0.009*\"guilti\" + 0.009*\"say\" + 0.008*\"power\" + 0.008*\"centr\" + 0.008*\"busi\" + 0.008*\"china\" + 0.007*\"trade\" + 0.007*\"industri\"')\n",
      "(8, '0.014*\"countri\" + 0.013*\"hour\" + 0.012*\"report\" + 0.011*\"trump\" + 0.011*\"leav\" + 0.010*\"hospit\" + 0.009*\"child\" + 0.008*\"shoot\" + 0.008*\"meet\" + 0.008*\"dead\"')\n",
      "(9, '0.019*\"govern\" + 0.017*\"rural\" + 0.012*\"health\" + 0.008*\"news\" + 0.008*\"weather\" + 0.007*\"job\" + 0.007*\"storm\" + 0.006*\"urg\" + 0.006*\"nation\" + 0.006*\"island\"')\n"
     ]
    }
   ],
   "source": [
    "print(processed_docs[4310])\n",
    "print(bow_doc_4310)\n",
    "print(lda_model.get_document_topics(bow_doc_4310))\n",
    "\n",
    "for topic in lda_model.print_topics(-1):\n",
    "    print(topic)"
   ]
  },
  {
   "cell_type": "code",
   "execution_count": 56,
   "metadata": {},
   "outputs": [
    {
     "name": "stdout",
     "output_type": "stream",
     "text": [
      "Topic: 0 \n",
      "Words: 0.004*\"chang\" + 0.004*\"guilti\" + 0.004*\"water\" + 0.004*\"council\" + 0.003*\"plan\" + 0.003*\"action\" + 0.003*\"polic\" + 0.003*\"plead\" + 0.003*\"urg\" + 0.003*\"rat\"\n",
      "Topic: 1 \n",
      "Words: 0.005*\"australia\" + 0.005*\"world\" + 0.004*\"sport\" + 0.004*\"market\" + 0.004*\"australian\" + 0.003*\"south\" + 0.003*\"trump\" + 0.003*\"win\" + 0.003*\"final\" + 0.003*\"test\"\n",
      "Topic: 2 \n",
      "Words: 0.010*\"polic\" + 0.009*\"charg\" + 0.007*\"countri\" + 0.007*\"hour\" + 0.007*\"murder\" + 0.006*\"court\" + 0.005*\"woman\" + 0.005*\"drug\" + 0.004*\"arrest\" + 0.004*\"hous\"\n",
      "Topic: 3 \n",
      "Words: 0.007*\"interview\" + 0.005*\"weather\" + 0.004*\"open\" + 0.003*\"say\" + 0.003*\"grandstand\" + 0.003*\"asylum\" + 0.003*\"australian\" + 0.003*\"australia\" + 0.002*\"final\" + 0.002*\"seeker\"\n",
      "Topic: 4 \n",
      "Words: 0.008*\"crash\" + 0.006*\"rural\" + 0.005*\"fund\" + 0.005*\"road\" + 0.004*\"driver\" + 0.004*\"plan\" + 0.004*\"fatal\" + 0.003*\"kill\" + 0.003*\"die\" + 0.003*\"flood\"\n"
     ]
    }
   ],
   "source": [
    "lda_model_tfidf = gensim.models.LdaMulticore(\n",
    "    corpus_tfidf, \n",
    "    num_topics=5, \n",
    "    id2word=dictionary,\n",
    "    passes=2,\n",
    "    workers=16\n",
    ")\n",
    "\n",
    "for idx, topic in lda_model_tfidf.print_topics(num_topics=-1):\n",
    "    print('Topic: {0} \\nWords: {1}'.format(idx, topic))"
   ]
  },
  {
   "cell_type": "code",
   "execution_count": 51,
   "metadata": {},
   "outputs": [
    {
     "data": {
      "text/plain": [
       "['rain', 'help', 'dampen', 'bushfir']"
      ]
     },
     "execution_count": 51,
     "metadata": {},
     "output_type": "execute_result"
    }
   ],
   "source": [
    "processed_docs[4310]"
   ]
  },
  {
   "cell_type": "code",
   "execution_count": 52,
   "metadata": {},
   "outputs": [
    {
     "name": "stdout",
     "output_type": "stream",
     "text": [
      "\n",
      "Score: 0.43439173698425293\t \n",
      "Topic: 0.013*\"final\" + 0.009*\"interview\" + 0.008*\"student\" + 0.008*\"help\" + 0.007*\"world\" + 0.007*\"leagu\" + 0.006*\"australian\" + 0.006*\"win\" + 0.006*\"john\" + 0.006*\"hill\"\n",
      "\n",
      "Score: 0.25866708159446716\t \n",
      "Topic: 0.023*\"govern\" + 0.014*\"china\" + 0.012*\"green\" + 0.011*\"australia\" + 0.011*\"budget\" + 0.011*\"driver\" + 0.009*\"plan\" + 0.007*\"presid\" + 0.007*\"labor\" + 0.007*\"polic\"\n",
      "\n",
      "Score: 0.16691485047340393\t \n",
      "Topic: 0.022*\"water\" + 0.016*\"price\" + 0.011*\"coast\" + 0.010*\"gold\" + 0.009*\"weather\" + 0.008*\"fall\" + 0.007*\"fear\" + 0.006*\"australian\" + 0.006*\"murray\" + 0.006*\"hous\"\n",
      "\n",
      "Score: 0.02000589668750763\t \n",
      "Topic: 0.022*\"kill\" + 0.016*\"crash\" + 0.015*\"death\" + 0.015*\"attack\" + 0.013*\"polic\" + 0.012*\"countri\" + 0.012*\"dead\" + 0.011*\"die\" + 0.011*\"hour\" + 0.011*\"woman\"\n",
      "\n",
      "Score: 0.020005496218800545\t \n",
      "Topic: 0.018*\"market\" + 0.016*\"chang\" + 0.012*\"warn\" + 0.010*\"need\" + 0.010*\"share\" + 0.009*\"say\" + 0.007*\"media\" + 0.007*\"free\" + 0.007*\"aussi\" + 0.007*\"busi\"\n",
      "\n",
      "Score: 0.020005006343126297\t \n",
      "Topic: 0.024*\"polic\" + 0.017*\"charg\" + 0.010*\"home\" + 0.010*\"trump\" + 0.009*\"farm\" + 0.008*\"guilti\" + 0.008*\"assault\" + 0.008*\"offic\" + 0.007*\"drive\" + 0.007*\"look\"\n",
      "\n",
      "Score: 0.020004967227578163\t \n",
      "Topic: 0.025*\"council\" + 0.016*\"melbourn\" + 0.011*\"plan\" + 0.009*\"work\" + 0.008*\"power\" + 0.008*\"news\" + 0.008*\"call\" + 0.007*\"communiti\" + 0.007*\"centr\" + 0.007*\"west\"\n",
      "\n",
      "Score: 0.020002003759145737\t \n",
      "Topic: 0.012*\"test\" + 0.009*\"hous\" + 0.009*\"say\" + 0.008*\"south\" + 0.008*\"research\" + 0.008*\"rural\" + 0.007*\"drought\" + 0.007*\"deal\" + 0.006*\"elect\" + 0.006*\"parliament\"\n",
      "\n",
      "Score: 0.020001739263534546\t \n",
      "Topic: 0.019*\"open\" + 0.018*\"health\" + 0.014*\"nation\" + 0.012*\"servic\" + 0.011*\"push\" + 0.010*\"plan\" + 0.010*\"union\" + 0.009*\"hospit\" + 0.008*\"fund\" + 0.007*\"futur\"\n",
      "\n",
      "Score: 0.020001240074634552\t \n",
      "Topic: 0.034*\"court\" + 0.024*\"interview\" + 0.017*\"miss\" + 0.015*\"polic\" + 0.013*\"charg\" + 0.013*\"face\" + 0.012*\"accus\" + 0.012*\"search\" + 0.010*\"arrest\" + 0.010*\"drug\"\n"
     ]
    }
   ],
   "source": [
    "for index, score in sorted(lda_model[bow_corpus[4310]], key=lambda tup: -1 * tup[1]):\n",
    "    print('\\nScore: {0}\\t \\nTopic: {1}'.format(score, lda_model.print_topic(index, 10)))"
   ]
  },
  {
   "cell_type": "code",
   "execution_count": 53,
   "metadata": {},
   "outputs": [
    {
     "name": "stdout",
     "output_type": "stream",
     "text": [
      "\n",
      "Score: 0.5572489500045776\t \n",
      "Topic: 0.009*\"weather\" + 0.007*\"water\" + 0.005*\"flood\" + 0.004*\"south\" + 0.004*\"carbon\" + 0.004*\"north\" + 0.004*\"west\" + 0.004*\"farmer\" + 0.004*\"warn\" + 0.003*\"rain\"\n",
      "\n",
      "Score: 0.282725065946579\t \n",
      "Topic: 0.006*\"australia\" + 0.005*\"ash\" + 0.005*\"world\" + 0.005*\"test\" + 0.005*\"leagu\" + 0.005*\"farm\" + 0.003*\"wind\" + 0.003*\"april\" + 0.003*\"plan\" + 0.003*\"council\"\n",
      "\n",
      "Score: 0.020007822662591934\t \n",
      "Topic: 0.009*\"market\" + 0.005*\"share\" + 0.005*\"blaze\" + 0.004*\"wednesday\" + 0.004*\"rate\" + 0.004*\"novemb\" + 0.004*\"rise\" + 0.004*\"hous\" + 0.004*\"energi\" + 0.004*\"firefight\"\n",
      "\n",
      "Score: 0.020003702491521835\t \n",
      "Topic: 0.011*\"interview\" + 0.009*\"miss\" + 0.007*\"search\" + 0.005*\"polic\" + 0.004*\"michael\" + 0.004*\"turnbul\" + 0.004*\"marriag\" + 0.003*\"homeless\" + 0.003*\"sydney\" + 0.003*\"quarter\"\n",
      "\n",
      "Score: 0.020003285259008408\t \n",
      "Topic: 0.015*\"charg\" + 0.011*\"polic\" + 0.010*\"murder\" + 0.010*\"court\" + 0.007*\"assault\" + 0.007*\"crash\" + 0.007*\"driver\" + 0.007*\"accus\" + 0.007*\"woman\" + 0.006*\"drug\"\n",
      "\n",
      "Score: 0.02000255696475506\t \n",
      "Topic: 0.005*\"asylum\" + 0.005*\"seeker\" + 0.004*\"busi\" + 0.004*\"news\" + 0.004*\"donald\" + 0.004*\"interview\" + 0.003*\"australia\" + 0.003*\"quiz\" + 0.003*\"entertain\" + 0.003*\"analysi\"\n",
      "\n",
      "Score: 0.020002540200948715\t \n",
      "Topic: 0.008*\"kill\" + 0.006*\"crash\" + 0.005*\"plead\" + 0.005*\"guilti\" + 0.005*\"polic\" + 0.005*\"royal\" + 0.004*\"dead\" + 0.004*\"live\" + 0.004*\"iraq\" + 0.004*\"blast\"\n",
      "\n",
      "Score: 0.020002415403723717\t \n",
      "Topic: 0.009*\"hour\" + 0.009*\"countri\" + 0.005*\"health\" + 0.005*\"plan\" + 0.005*\"interview\" + 0.004*\"fund\" + 0.004*\"say\" + 0.004*\"council\" + 0.004*\"govern\" + 0.004*\"care\"\n",
      "\n",
      "Score: 0.020002217963337898\t \n",
      "Topic: 0.007*\"drum\" + 0.007*\"polic\" + 0.006*\"grandstand\" + 0.005*\"bodi\" + 0.004*\"attack\" + 0.004*\"toni\" + 0.004*\"award\" + 0.003*\"hunt\" + 0.003*\"malcolm\" + 0.003*\"kill\"\n",
      "\n",
      "Score: 0.020001467317342758\t \n",
      "Topic: 0.008*\"rural\" + 0.007*\"trump\" + 0.007*\"news\" + 0.007*\"elect\" + 0.006*\"nation\" + 0.005*\"climat\" + 0.005*\"closer\" + 0.004*\"monday\" + 0.004*\"tuesday\" + 0.004*\"chang\"\n"
     ]
    }
   ],
   "source": [
    "for index, score in sorted(lda_model_tfidf[bow_corpus[4310]], key=lambda tup: -1*tup[1]):\n",
    "    print(\"\\nScore: {}\\t \\nTopic: {}\".format(score, lda_model_tfidf.print_topic(index, 10)))"
   ]
  },
  {
   "cell_type": "code",
   "execution_count": 54,
   "metadata": {},
   "outputs": [],
   "source": [
    "unseen_document = 'How a Pentagon deal became an identity crisis for Google'\n",
    "bow_vector = dictionary.doc2bow(preprocess(unseen_document))"
   ]
  },
  {
   "cell_type": "code",
   "execution_count": 55,
   "metadata": {},
   "outputs": [
    {
     "name": "stdout",
     "output_type": "stream",
     "text": [
      "Score: 0.31976088881492615\t Topic: 0.018*\"market\" + 0.016*\"chang\" + 0.012*\"warn\" + 0.010*\"need\" + 0.010*\"share\"\n",
      "Score: 0.20543114840984344\t Topic: 0.024*\"polic\" + 0.017*\"charg\" + 0.010*\"home\" + 0.010*\"trump\" + 0.009*\"farm\"\n",
      "Score: 0.19117413461208344\t Topic: 0.012*\"test\" + 0.009*\"hous\" + 0.009*\"say\" + 0.008*\"south\" + 0.008*\"research\"\n",
      "Score: 0.18361763656139374\t Topic: 0.022*\"kill\" + 0.016*\"crash\" + 0.015*\"death\" + 0.015*\"attack\" + 0.013*\"polic\"\n",
      "Score: 0.016672099009156227\t Topic: 0.023*\"govern\" + 0.014*\"china\" + 0.012*\"green\" + 0.011*\"australia\" + 0.011*\"budget\"\n",
      "Score: 0.016670363023877144\t Topic: 0.019*\"open\" + 0.018*\"health\" + 0.014*\"nation\" + 0.012*\"servic\" + 0.011*\"push\"\n",
      "Score: 0.016668878495693207\t Topic: 0.025*\"council\" + 0.016*\"melbourn\" + 0.011*\"plan\" + 0.009*\"work\" + 0.008*\"power\"\n",
      "Score: 0.01666880212724209\t Topic: 0.034*\"court\" + 0.024*\"interview\" + 0.017*\"miss\" + 0.015*\"polic\" + 0.013*\"charg\"\n",
      "Score: 0.01666834205389023\t Topic: 0.022*\"water\" + 0.016*\"price\" + 0.011*\"coast\" + 0.010*\"gold\" + 0.009*\"weather\"\n",
      "Score: 0.01666773296892643\t Topic: 0.013*\"final\" + 0.009*\"interview\" + 0.008*\"student\" + 0.008*\"help\" + 0.007*\"world\"\n"
     ]
    }
   ],
   "source": [
    "for index, score in sorted(lda_model[bow_vector], key=lambda tup: -1*tup[1]):\n",
    "    print(\"Score: {}\\t Topic: {}\".format(score, lda_model.print_topic(index, 5)))"
   ]
  },
  {
   "cell_type": "code",
   "execution_count": null,
   "metadata": {},
   "outputs": [],
   "source": []
  }
 ],
 "metadata": {
  "kernelspec": {
   "display_name": "Python 3",
   "language": "python",
   "name": "python3"
  },
  "language_info": {
   "codemirror_mode": {
    "name": "ipython",
    "version": 3
   },
   "file_extension": ".py",
   "mimetype": "text/x-python",
   "name": "python",
   "nbconvert_exporter": "python",
   "pygments_lexer": "ipython3",
   "version": "3.6.8"
  }
 },
 "nbformat": 4,
 "nbformat_minor": 2
}
